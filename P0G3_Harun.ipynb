{
 "cells": [
  {
   "cell_type": "markdown",
   "metadata": {},
   "source": [
    "# PREFACE"
   ]
  },
  {
   "cell_type": "markdown",
   "metadata": {},
   "source": [
    "    ===============================================================================================================\n",
    "    Graded Challenge 3\n",
    "\n",
    "    Nama  : Harun\n",
    "    Batch : RMT - 35\n",
    "\n",
    "    Tugas program kali ini bertujuan untuk pengambilan data dari internet, persiapan data, analisis statistik, dan pemahaman bisnis.\n",
    "    \n",
    "    ==============================================================================================================="
   ]
  },
  {
   "cell_type": "markdown",
   "metadata": {},
   "source": [
    "# Libraries"
   ]
  },
  {
   "cell_type": "code",
   "execution_count": 1,
   "metadata": {},
   "outputs": [],
   "source": [
    "import pandas as pd \n",
    "from selenium import webdriver \n",
    "from bs4 import BeautifulSoup\n",
    "from time import sleep\n",
    "import requests\n",
    "from scipy import stats\n",
    "import numpy as np\n",
    "import seaborn as sns"
   ]
  },
  {
   "cell_type": "markdown",
   "metadata": {},
   "source": [
    "# Web Scraping"
   ]
  },
  {
   "cell_type": "code",
   "execution_count": 695,
   "metadata": {},
   "outputs": [],
   "source": [
    "# Inisiasi dataframe kosong untuk menampung hasil scraping\n",
    "data = pd.DataFrame()\n",
    "# List kosong untuk menampung hasil scraping setiap value\n",
    "nama_produk = []\n",
    "harga_produk = []\n",
    "nama_toko = []\n",
    "kota_toko = []\n",
    "banyaknya_terjual = []\n",
    "rating = []\n",
    "\n",
    "# Instance driver\n",
    "driver = webdriver.Chrome()\n",
    "\n",
    "for i in range(1, 15):\n",
    "    # Tunjukin akan ngambil data dari link mana\n",
    "    url = \"https://www.tokopedia.com/search?page={}&q=seblak&search_id=202408230011197B9C09C920D16A129YHT&source=universe&srp_component_id=02.07.01.01&st=product\".format(i)\n",
    "    # Nyuruh driver untuk akses tautannya\n",
    "    driver.get(url)\n",
    "    sleep(5)  # Waktu tunggu agar halaman terload sepenuhnya\n",
    "\n",
    "    # Loop untuk scroll ke bawah beberapa kali\n",
    "    for scroll in range(15):\n",
    "        driver.execute_script(\"window.scrollBy(0, 350)\")  # Sekali scroll 350 pixel\n",
    "        sleep(1)  # Menunggu 1 detik sebelum iterasi selanjutnya\n",
    "\n",
    "    # Setelah scrolling, ambil source page untuk di-parse oleh BeautifulSoup\n",
    "    html = driver.page_source\n",
    "    soup = BeautifulSoup(html, \"html.parser\")\n",
    "\n",
    "    # Nama produk\n",
    "    for item in soup.find_all('div', {\"class\": \"css-5wh65g\"}):\n",
    "        elemen1 = item.find('div', {\"class\": \"VKNwBTYQmj8+cxNrCQBD6g==\"})\n",
    "        nama_produk.append(elemen1.get_text().strip() if elemen1 else None)\n",
    "\n",
    "    # Harga produk\n",
    "    for item in soup.find_all('div', {\"class\": \"css-5wh65g\"}):\n",
    "        elemen1 = item.find('div', {\"class\": \"ELhJqP-Bfiud3i5eBR8NWg==\"})\n",
    "        harga_produk.append(elemen1.get_text().strip() if elemen1 else None)\n",
    "\n",
    "    # Nama toko\n",
    "    for item in soup.find_all('div', {\"class\": \"css-5wh65g\"}):\n",
    "        elemen1 = item.find('span', {\"class\": \"X6c-fdwuofj6zGvLKVUaNQ== -9tiTbQgmU1vCjykywQqvA== flip\"})\n",
    "        nama_toko.append(elemen1.get_text().strip() if elemen1 else None)\n",
    "\n",
    "    # Kota toko\n",
    "    for item in soup.find_all('div', {\"class\": \"css-5wh65g\"}):\n",
    "        elemen1 = item.find('span', {\"class\": \"-9tiTbQgmU1vCjykywQqvA== flip\"})\n",
    "        kota_toko.append(elemen1.get_text().strip() if elemen1 else None)\n",
    "\n",
    "    # Banyaknya terjual\n",
    "    for item in soup.find_all('div', {\"class\": \"css-5wh65g\"}):\n",
    "        sold = item.find('span', {\"class\": \"eLOomHl6J3IWAcdRU8M08A==\"})\n",
    "        banyaknya_terjual.append(sold.get_text().strip() if sold else None)\n",
    "\n",
    "    # Rating\n",
    "    for item in soup.find_all('div', {\"class\": \"css-5wh65g\"}):\n",
    "        rating_elem = item.find('span', {\"class\": \"nBBbPk9MrELbIUbobepKbQ==\"})\n",
    "        rating.append(rating_elem.get_text().strip() if rating_elem else None)\n",
    "\n",
    "# Hentikan driver setelah selesai\n",
    "driver.quit()\n",
    "\n",
    "# Membuat dataframe dari hasil scraping\n",
    "data = pd.DataFrame({\n",
    "    'Nama Produk': nama_produk,\n",
    "    'Harga Produk': harga_produk,\n",
    "    'Nama Toko': nama_toko,\n",
    "    'Kota Toko': kota_toko,\n",
    "    'Banyaknya Terjual': banyaknya_terjual,\n",
    "    'Rating': rating\n",
    "})\n",
    "\n",
    "# Tampilkan beberapa data hasil scraping\n",
    "data.head()"
   ]
  },
  {
   "cell_type": "code",
   "execution_count": 696,
   "metadata": {},
   "outputs": [],
   "source": [
    "#mengecek missing value\n",
    "data.isnull().sum()"
   ]
  },
  {
   "cell_type": "markdown",
   "metadata": {},
   "source": [
    "hasil scrapingan sukses. nah disini kita melihat adanya missing value yang dimana kolom banyaknya terjual dan rating masih ada yang kosong. langkah selanjutnya kita melakukan proses cleaning data. sebelumnya kita export dulu hasil data yang sudah di scraping ke dalam file csv.\n"
   ]
  },
  {
   "cell_type": "code",
   "execution_count": 697,
   "metadata": {},
   "outputs": [],
   "source": [
    "#menampilkan data yang sudah di scraping\n",
    "data"
   ]
  },
  {
   "cell_type": "markdown",
   "metadata": {},
   "source": [
    "hasil scrapingan yang kita masukkan ke dataframe."
   ]
  },
  {
   "cell_type": "code",
   "execution_count": 698,
   "metadata": {},
   "outputs": [],
   "source": [
    "#export data ke csv\n",
    "data.to_csv(\"hasil_scraping.csv\")"
   ]
  },
  {
   "cell_type": "markdown",
   "metadata": {},
   "source": [
    "# Data Preparation"
   ]
  },
  {
   "cell_type": "markdown",
   "metadata": {},
   "source": [
    "## Eksplorasi Data"
   ]
  },
  {
   "cell_type": "code",
   "execution_count": 706,
   "metadata": {},
   "outputs": [
    {
     "data": {
      "text/html": [
       "<div>\n",
       "<style scoped>\n",
       "    .dataframe tbody tr th:only-of-type {\n",
       "        vertical-align: middle;\n",
       "    }\n",
       "\n",
       "    .dataframe tbody tr th {\n",
       "        vertical-align: top;\n",
       "    }\n",
       "\n",
       "    .dataframe thead th {\n",
       "        text-align: right;\n",
       "    }\n",
       "</style>\n",
       "<table border=\"1\" class=\"dataframe\">\n",
       "  <thead>\n",
       "    <tr style=\"text-align: right;\">\n",
       "      <th></th>\n",
       "      <th>Nama Produk</th>\n",
       "      <th>Harga Produk</th>\n",
       "      <th>Nama Toko</th>\n",
       "      <th>Kota Toko</th>\n",
       "      <th>Banyaknya Terjual</th>\n",
       "      <th>Rating</th>\n",
       "    </tr>\n",
       "  </thead>\n",
       "  <tbody>\n",
       "    <tr>\n",
       "      <th>0</th>\n",
       "      <td>Seblak Instan Ceu Nthien Khas Bandung Rasana N...</td>\n",
       "      <td>Rp17.000</td>\n",
       "      <td>Central Seblak Nusantara</td>\n",
       "      <td>Tangerang Selatan</td>\n",
       "      <td>2rb+ terjual</td>\n",
       "      <td>4.9</td>\n",
       "    </tr>\n",
       "    <tr>\n",
       "      <th>1</th>\n",
       "      <td>KRUPUK SEBLAK RAFAEL | SEBRING | KERUPUK MAWAR...</td>\n",
       "      <td>Rp21.630</td>\n",
       "      <td>Toko kue Sumber Mas</td>\n",
       "      <td>Jakarta Timur</td>\n",
       "      <td>40+ terjual</td>\n",
       "      <td>5.0</td>\n",
       "    </tr>\n",
       "    <tr>\n",
       "      <th>2</th>\n",
       "      <td>Seblak Rafael, Seblak Coet Instan Halal</td>\n",
       "      <td>Rp25.000</td>\n",
       "      <td>Brother Meat Shop</td>\n",
       "      <td>Depok</td>\n",
       "      <td>500+ terjual</td>\n",
       "      <td>5.0</td>\n",
       "    </tr>\n",
       "    <tr>\n",
       "      <th>3</th>\n",
       "      <td>SEBLAK KERING PEDAS DAUN JERUK - 500 gram</td>\n",
       "      <td>Rp17.500</td>\n",
       "      <td>BociKakang</td>\n",
       "      <td>Jakarta Selatan</td>\n",
       "      <td>1rb+ terjual</td>\n",
       "      <td>4.6</td>\n",
       "    </tr>\n",
       "    <tr>\n",
       "      <th>4</th>\n",
       "      <td>Seblak Rafael/Seblak Coet Instan Halal</td>\n",
       "      <td>Rp26.600Rp28.000</td>\n",
       "      <td>Foodstocks</td>\n",
       "      <td>Jakarta Selatan</td>\n",
       "      <td>500+ terjual</td>\n",
       "      <td>4.9</td>\n",
       "    </tr>\n",
       "    <tr>\n",
       "      <th>...</th>\n",
       "      <td>...</td>\n",
       "      <td>...</td>\n",
       "      <td>...</td>\n",
       "      <td>...</td>\n",
       "      <td>...</td>\n",
       "      <td>...</td>\n",
       "    </tr>\n",
       "    <tr>\n",
       "      <th>1166</th>\n",
       "      <td>Kerupuk Rambak Sapi Seven Snack</td>\n",
       "      <td>Rp15.000</td>\n",
       "      <td>Pisang Goreng Madu Bu Nanik</td>\n",
       "      <td>Jakarta Barat</td>\n",
       "      <td>1rb+ terjual</td>\n",
       "      <td>4.9</td>\n",
       "    </tr>\n",
       "    <tr>\n",
       "      <th>1167</th>\n",
       "      <td>Kerupuk Keriting Palembang</td>\n",
       "      <td>Rp28.000</td>\n",
       "      <td>Pisang Goreng Madu Bu Nanik</td>\n",
       "      <td>Jakarta Barat</td>\n",
       "      <td>1rb+ terjual</td>\n",
       "      <td>4.9</td>\n",
       "    </tr>\n",
       "    <tr>\n",
       "      <th>1168</th>\n",
       "      <td>Batagor Kering Sari Roso</td>\n",
       "      <td>Rp26.000</td>\n",
       "      <td>Pisang Goreng Madu Bu Nanik</td>\n",
       "      <td>Jakarta Barat</td>\n",
       "      <td>100+ terjual</td>\n",
       "      <td>4.7</td>\n",
       "    </tr>\n",
       "    <tr>\n",
       "      <th>1169</th>\n",
       "      <td>Stick / stik otak-otak Bu Nanik</td>\n",
       "      <td>Rp10.000</td>\n",
       "      <td>Pisang Goreng Madu Bu Nanik</td>\n",
       "      <td>Jakarta Barat</td>\n",
       "      <td>750+ terjual</td>\n",
       "      <td>4.7</td>\n",
       "    </tr>\n",
       "    <tr>\n",
       "      <th>1170</th>\n",
       "      <td>Kerupuk Ikan Tanggiri</td>\n",
       "      <td>Rp17.000</td>\n",
       "      <td>Pisang Goreng Madu Bu Nanik</td>\n",
       "      <td>Jakarta Barat</td>\n",
       "      <td>1rb+ terjual</td>\n",
       "      <td>4.9</td>\n",
       "    </tr>\n",
       "  </tbody>\n",
       "</table>\n",
       "<p>1171 rows × 6 columns</p>\n",
       "</div>"
      ],
      "text/plain": [
       "                                            Nama Produk      Harga Produk  \\\n",
       "0     Seblak Instan Ceu Nthien Khas Bandung Rasana N...          Rp17.000   \n",
       "1     KRUPUK SEBLAK RAFAEL | SEBRING | KERUPUK MAWAR...          Rp21.630   \n",
       "2               Seblak Rafael, Seblak Coet Instan Halal          Rp25.000   \n",
       "3             SEBLAK KERING PEDAS DAUN JERUK - 500 gram          Rp17.500   \n",
       "4                Seblak Rafael/Seblak Coet Instan Halal  Rp26.600Rp28.000   \n",
       "...                                                 ...               ...   \n",
       "1166                    Kerupuk Rambak Sapi Seven Snack          Rp15.000   \n",
       "1167                         Kerupuk Keriting Palembang          Rp28.000   \n",
       "1168                           Batagor Kering Sari Roso          Rp26.000   \n",
       "1169                    Stick / stik otak-otak Bu Nanik          Rp10.000   \n",
       "1170                              Kerupuk Ikan Tanggiri          Rp17.000   \n",
       "\n",
       "                        Nama Toko          Kota Toko Banyaknya Terjual  Rating  \n",
       "0        Central Seblak Nusantara  Tangerang Selatan      2rb+ terjual     4.9  \n",
       "1             Toko kue Sumber Mas      Jakarta Timur       40+ terjual     5.0  \n",
       "2               Brother Meat Shop              Depok      500+ terjual     5.0  \n",
       "3                      BociKakang    Jakarta Selatan      1rb+ terjual     4.6  \n",
       "4                      Foodstocks    Jakarta Selatan      500+ terjual     4.9  \n",
       "...                           ...                ...               ...     ...  \n",
       "1166  Pisang Goreng Madu Bu Nanik      Jakarta Barat      1rb+ terjual     4.9  \n",
       "1167  Pisang Goreng Madu Bu Nanik      Jakarta Barat      1rb+ terjual     4.9  \n",
       "1168  Pisang Goreng Madu Bu Nanik      Jakarta Barat      100+ terjual     4.7  \n",
       "1169  Pisang Goreng Madu Bu Nanik      Jakarta Barat      750+ terjual     4.7  \n",
       "1170  Pisang Goreng Madu Bu Nanik      Jakarta Barat      1rb+ terjual     4.9  \n",
       "\n",
       "[1171 rows x 6 columns]"
      ]
     },
     "execution_count": 706,
     "metadata": {},
     "output_type": "execute_result"
    }
   ],
   "source": [
    "import pandas as pd\n",
    "# load data hasil scrapingan\n",
    "data = pd.read_csv('hasil_scraping.csv')\n",
    "# menampilkan data\n",
    "data"
   ]
  },
  {
   "cell_type": "markdown",
   "metadata": {},
   "source": [
    "data.describe(include=\"all\").T"
   ]
  },
  {
   "cell_type": "code",
   "execution_count": 707,
   "metadata": {},
   "outputs": [
    {
     "data": {
      "text/html": [
       "<div>\n",
       "<style scoped>\n",
       "    .dataframe tbody tr th:only-of-type {\n",
       "        vertical-align: middle;\n",
       "    }\n",
       "\n",
       "    .dataframe tbody tr th {\n",
       "        vertical-align: top;\n",
       "    }\n",
       "\n",
       "    .dataframe thead th {\n",
       "        text-align: right;\n",
       "    }\n",
       "</style>\n",
       "<table border=\"1\" class=\"dataframe\">\n",
       "  <thead>\n",
       "    <tr style=\"text-align: right;\">\n",
       "      <th></th>\n",
       "      <th>count</th>\n",
       "      <th>unique</th>\n",
       "      <th>top</th>\n",
       "      <th>freq</th>\n",
       "      <th>mean</th>\n",
       "      <th>std</th>\n",
       "      <th>min</th>\n",
       "      <th>25%</th>\n",
       "      <th>50%</th>\n",
       "      <th>75%</th>\n",
       "      <th>max</th>\n",
       "    </tr>\n",
       "  </thead>\n",
       "  <tbody>\n",
       "    <tr>\n",
       "      <th>Nama Produk</th>\n",
       "      <td>1171</td>\n",
       "      <td>937</td>\n",
       "      <td>Kylafood Seblak Rempah Autentik</td>\n",
       "      <td>5</td>\n",
       "      <td>NaN</td>\n",
       "      <td>NaN</td>\n",
       "      <td>NaN</td>\n",
       "      <td>NaN</td>\n",
       "      <td>NaN</td>\n",
       "      <td>NaN</td>\n",
       "      <td>NaN</td>\n",
       "    </tr>\n",
       "    <tr>\n",
       "      <th>Harga Produk</th>\n",
       "      <td>1171</td>\n",
       "      <td>427</td>\n",
       "      <td>Rp5.000</td>\n",
       "      <td>24</td>\n",
       "      <td>NaN</td>\n",
       "      <td>NaN</td>\n",
       "      <td>NaN</td>\n",
       "      <td>NaN</td>\n",
       "      <td>NaN</td>\n",
       "      <td>NaN</td>\n",
       "      <td>NaN</td>\n",
       "    </tr>\n",
       "    <tr>\n",
       "      <th>Nama Toko</th>\n",
       "      <td>1171</td>\n",
       "      <td>449</td>\n",
       "      <td>kylafood</td>\n",
       "      <td>78</td>\n",
       "      <td>NaN</td>\n",
       "      <td>NaN</td>\n",
       "      <td>NaN</td>\n",
       "      <td>NaN</td>\n",
       "      <td>NaN</td>\n",
       "      <td>NaN</td>\n",
       "      <td>NaN</td>\n",
       "    </tr>\n",
       "    <tr>\n",
       "      <th>Kota Toko</th>\n",
       "      <td>1171</td>\n",
       "      <td>74</td>\n",
       "      <td>Bandung</td>\n",
       "      <td>168</td>\n",
       "      <td>NaN</td>\n",
       "      <td>NaN</td>\n",
       "      <td>NaN</td>\n",
       "      <td>NaN</td>\n",
       "      <td>NaN</td>\n",
       "      <td>NaN</td>\n",
       "      <td>NaN</td>\n",
       "    </tr>\n",
       "    <tr>\n",
       "      <th>Banyaknya Terjual</th>\n",
       "      <td>1116</td>\n",
       "      <td>48</td>\n",
       "      <td>100+ terjual</td>\n",
       "      <td>188</td>\n",
       "      <td>NaN</td>\n",
       "      <td>NaN</td>\n",
       "      <td>NaN</td>\n",
       "      <td>NaN</td>\n",
       "      <td>NaN</td>\n",
       "      <td>NaN</td>\n",
       "      <td>NaN</td>\n",
       "    </tr>\n",
       "    <tr>\n",
       "      <th>Rating</th>\n",
       "      <td>1055.0</td>\n",
       "      <td>NaN</td>\n",
       "      <td>NaN</td>\n",
       "      <td>NaN</td>\n",
       "      <td>4.871469</td>\n",
       "      <td>0.169806</td>\n",
       "      <td>3.4</td>\n",
       "      <td>4.8</td>\n",
       "      <td>4.9</td>\n",
       "      <td>5.0</td>\n",
       "      <td>5.0</td>\n",
       "    </tr>\n",
       "  </tbody>\n",
       "</table>\n",
       "</div>"
      ],
      "text/plain": [
       "                    count unique                              top freq  \\\n",
       "Nama Produk          1171    937  Kylafood Seblak Rempah Autentik    5   \n",
       "Harga Produk         1171    427                          Rp5.000   24   \n",
       "Nama Toko            1171    449                         kylafood   78   \n",
       "Kota Toko            1171     74                          Bandung  168   \n",
       "Banyaknya Terjual    1116     48                     100+ terjual  188   \n",
       "Rating             1055.0    NaN                              NaN  NaN   \n",
       "\n",
       "                       mean       std  min  25%  50%  75%  max  \n",
       "Nama Produk             NaN       NaN  NaN  NaN  NaN  NaN  NaN  \n",
       "Harga Produk            NaN       NaN  NaN  NaN  NaN  NaN  NaN  \n",
       "Nama Toko               NaN       NaN  NaN  NaN  NaN  NaN  NaN  \n",
       "Kota Toko               NaN       NaN  NaN  NaN  NaN  NaN  NaN  \n",
       "Banyaknya Terjual       NaN       NaN  NaN  NaN  NaN  NaN  NaN  \n",
       "Rating             4.871469  0.169806  3.4  4.8  4.9  5.0  5.0  "
      ]
     },
     "execution_count": 707,
     "metadata": {},
     "output_type": "execute_result"
    }
   ],
   "source": [
    "data.describe(include=\"all\").T"
   ]
  },
  {
   "cell_type": "markdown",
   "metadata": {},
   "source": [
    "disini kita melihat adanya missing value menunjukkan bahwa ada nilai hilang dalam data."
   ]
  },
  {
   "cell_type": "code",
   "execution_count": 708,
   "metadata": {},
   "outputs": [
    {
     "data": {
      "text/plain": [
       "Nama Produk            0\n",
       "Harga Produk           0\n",
       "Nama Toko              0\n",
       "Kota Toko              0\n",
       "Banyaknya Terjual     55\n",
       "Rating               116\n",
       "dtype: int64"
      ]
     },
     "execution_count": 708,
     "metadata": {},
     "output_type": "execute_result"
    }
   ],
   "source": [
    "data.isna().sum()"
   ]
  },
  {
   "cell_type": "markdown",
   "metadata": {},
   "source": [
    "Tipe datanya string semua, seharusnya ada yang berupa float pada kolom harga produk, banyaknya terjual, dan rating"
   ]
  },
  {
   "cell_type": "code",
   "execution_count": 709,
   "metadata": {},
   "outputs": [
    {
     "data": {
      "text/plain": [
       "0       False\n",
       "1       False\n",
       "2       False\n",
       "3       False\n",
       "4       False\n",
       "        ...  \n",
       "1166     True\n",
       "1167     True\n",
       "1168     True\n",
       "1169     True\n",
       "1170     True\n",
       "Length: 1171, dtype: bool"
      ]
     },
     "execution_count": 709,
     "metadata": {},
     "output_type": "execute_result"
    }
   ],
   "source": [
    "# cek data duplicat\n",
    "data.duplicated()"
   ]
  },
  {
   "cell_type": "markdown",
   "metadata": {},
   "source": [
    "Tidak ada data duplikat"
   ]
  },
  {
   "cell_type": "markdown",
   "metadata": {},
   "source": [
    "## Data cleaning"
   ]
  },
  {
   "cell_type": "markdown",
   "metadata": {},
   "source": [
    "setelah kita mengetahui data apa saja yang harus dibersihkan dengan melihat data eksplorasi tadi selanjutnya kita akan melakukan proses pembersihan data."
   ]
  },
  {
   "cell_type": "code",
   "execution_count": 710,
   "metadata": {},
   "outputs": [
    {
     "data": {
      "text/plain": [
       "Nama Produk           object\n",
       "Harga Produk          object\n",
       "Nama Toko             object\n",
       "Kota Toko             object\n",
       "Banyaknya Terjual     object\n",
       "Rating               float64\n",
       "dtype: object"
      ]
     },
     "execution_count": 710,
     "metadata": {},
     "output_type": "execute_result"
    }
   ],
   "source": [
    "# cek tipe data\n",
    "data.dtypes"
   ]
  },
  {
   "cell_type": "markdown",
   "metadata": {},
   "source": [
    "tipe datanya harus diganti harga produk dan banyaknya terjual ke tipe data float"
   ]
  },
  {
   "cell_type": "code",
   "execution_count": 711,
   "metadata": {},
   "outputs": [
    {
     "data": {
      "text/plain": [
       "0               Rp17.000\n",
       "1               Rp21.630\n",
       "2               Rp25.000\n",
       "3               Rp17.500\n",
       "4       Rp26.600Rp28.000\n",
       "              ...       \n",
       "1166            Rp15.000\n",
       "1167            Rp28.000\n",
       "1168            Rp26.000\n",
       "1169            Rp10.000\n",
       "1170            Rp17.000\n",
       "Name: Harga Produk, Length: 1171, dtype: object"
      ]
     },
     "execution_count": 711,
     "metadata": {},
     "output_type": "execute_result"
    }
   ],
   "source": [
    "data['Harga Produk']"
   ]
  },
  {
   "cell_type": "code",
   "execution_count": 712,
   "metadata": {},
   "outputs": [
    {
     "data": {
      "text/html": [
       "<div>\n",
       "<style scoped>\n",
       "    .dataframe tbody tr th:only-of-type {\n",
       "        vertical-align: middle;\n",
       "    }\n",
       "\n",
       "    .dataframe tbody tr th {\n",
       "        vertical-align: top;\n",
       "    }\n",
       "\n",
       "    .dataframe thead th {\n",
       "        text-align: right;\n",
       "    }\n",
       "</style>\n",
       "<table border=\"1\" class=\"dataframe\">\n",
       "  <thead>\n",
       "    <tr style=\"text-align: right;\">\n",
       "      <th></th>\n",
       "      <th>Nama Produk</th>\n",
       "      <th>Harga Produk</th>\n",
       "      <th>Nama Toko</th>\n",
       "      <th>Kota Toko</th>\n",
       "      <th>Banyaknya Terjual</th>\n",
       "      <th>Rating</th>\n",
       "    </tr>\n",
       "  </thead>\n",
       "  <tbody>\n",
       "    <tr>\n",
       "      <th>0</th>\n",
       "      <td>Seblak Instan Ceu Nthien Khas Bandung Rasana N...</td>\n",
       "      <td>17000</td>\n",
       "      <td>Central Seblak Nusantara</td>\n",
       "      <td>Tangerang Selatan</td>\n",
       "      <td>2rb+ terjual</td>\n",
       "      <td>4.9</td>\n",
       "    </tr>\n",
       "    <tr>\n",
       "      <th>1</th>\n",
       "      <td>KRUPUK SEBLAK RAFAEL | SEBRING | KERUPUK MAWAR...</td>\n",
       "      <td>21630</td>\n",
       "      <td>Toko kue Sumber Mas</td>\n",
       "      <td>Jakarta Timur</td>\n",
       "      <td>40+ terjual</td>\n",
       "      <td>5.0</td>\n",
       "    </tr>\n",
       "    <tr>\n",
       "      <th>2</th>\n",
       "      <td>Seblak Rafael, Seblak Coet Instan Halal</td>\n",
       "      <td>25000</td>\n",
       "      <td>Brother Meat Shop</td>\n",
       "      <td>Depok</td>\n",
       "      <td>500+ terjual</td>\n",
       "      <td>5.0</td>\n",
       "    </tr>\n",
       "    <tr>\n",
       "      <th>3</th>\n",
       "      <td>SEBLAK KERING PEDAS DAUN JERUK - 500 gram</td>\n",
       "      <td>17500</td>\n",
       "      <td>BociKakang</td>\n",
       "      <td>Jakarta Selatan</td>\n",
       "      <td>1rb+ terjual</td>\n",
       "      <td>4.6</td>\n",
       "    </tr>\n",
       "    <tr>\n",
       "      <th>4</th>\n",
       "      <td>Seblak Rafael/Seblak Coet Instan Halal</td>\n",
       "      <td>26600</td>\n",
       "      <td>Foodstocks</td>\n",
       "      <td>Jakarta Selatan</td>\n",
       "      <td>500+ terjual</td>\n",
       "      <td>4.9</td>\n",
       "    </tr>\n",
       "  </tbody>\n",
       "</table>\n",
       "</div>"
      ],
      "text/plain": [
       "                                         Nama Produk  Harga Produk  \\\n",
       "0  Seblak Instan Ceu Nthien Khas Bandung Rasana N...         17000   \n",
       "1  KRUPUK SEBLAK RAFAEL | SEBRING | KERUPUK MAWAR...         21630   \n",
       "2            Seblak Rafael, Seblak Coet Instan Halal         25000   \n",
       "3          SEBLAK KERING PEDAS DAUN JERUK - 500 gram         17500   \n",
       "4             Seblak Rafael/Seblak Coet Instan Halal         26600   \n",
       "\n",
       "                  Nama Toko          Kota Toko Banyaknya Terjual  Rating  \n",
       "0  Central Seblak Nusantara  Tangerang Selatan      2rb+ terjual     4.9  \n",
       "1       Toko kue Sumber Mas      Jakarta Timur       40+ terjual     5.0  \n",
       "2         Brother Meat Shop              Depok      500+ terjual     5.0  \n",
       "3                BociKakang    Jakarta Selatan      1rb+ terjual     4.6  \n",
       "4                Foodstocks    Jakarta Selatan      500+ terjual     4.9  "
      ]
     },
     "execution_count": 712,
     "metadata": {},
     "output_type": "execute_result"
    }
   ],
   "source": [
    "# Pisahkan jika ada dua harga yang digabung\n",
    "# Menghapus titik dan mengubah tipe data menjadi float\n",
    "data[\"Harga Produk\"] = data['Harga Produk'].str.split('Rp').str[1].str.replace(\".\",\"\").apply(pd.to_numeric, errors='coerce')\n",
    "data.head()"
   ]
  },
  {
   "cell_type": "markdown",
   "metadata": {},
   "source": [
    "Isi dari harga produk tidak ada lagi yang double dan sudah diganti tipe datanya kedalam float"
   ]
  },
  {
   "cell_type": "code",
   "execution_count": 713,
   "metadata": {},
   "outputs": [
    {
     "data": {
      "text/html": [
       "<div>\n",
       "<style scoped>\n",
       "    .dataframe tbody tr th:only-of-type {\n",
       "        vertical-align: middle;\n",
       "    }\n",
       "\n",
       "    .dataframe tbody tr th {\n",
       "        vertical-align: top;\n",
       "    }\n",
       "\n",
       "    .dataframe thead th {\n",
       "        text-align: right;\n",
       "    }\n",
       "</style>\n",
       "<table border=\"1\" class=\"dataframe\">\n",
       "  <thead>\n",
       "    <tr style=\"text-align: right;\">\n",
       "      <th></th>\n",
       "      <th>Nama Produk</th>\n",
       "      <th>Harga Produk</th>\n",
       "      <th>Nama Toko</th>\n",
       "      <th>Kota Toko</th>\n",
       "      <th>Banyaknya Terjual</th>\n",
       "      <th>Rating</th>\n",
       "    </tr>\n",
       "  </thead>\n",
       "  <tbody>\n",
       "    <tr>\n",
       "      <th>0</th>\n",
       "      <td>Seblak Instan Ceu Nthien Khas Bandung Rasana N...</td>\n",
       "      <td>17000</td>\n",
       "      <td>Central Seblak Nusantara</td>\n",
       "      <td>Tangerang Selatan</td>\n",
       "      <td>2000.0</td>\n",
       "      <td>4.9</td>\n",
       "    </tr>\n",
       "    <tr>\n",
       "      <th>1</th>\n",
       "      <td>KRUPUK SEBLAK RAFAEL | SEBRING | KERUPUK MAWAR...</td>\n",
       "      <td>21630</td>\n",
       "      <td>Toko kue Sumber Mas</td>\n",
       "      <td>Jakarta Timur</td>\n",
       "      <td>40.0</td>\n",
       "      <td>5.0</td>\n",
       "    </tr>\n",
       "    <tr>\n",
       "      <th>2</th>\n",
       "      <td>Seblak Rafael, Seblak Coet Instan Halal</td>\n",
       "      <td>25000</td>\n",
       "      <td>Brother Meat Shop</td>\n",
       "      <td>Depok</td>\n",
       "      <td>500.0</td>\n",
       "      <td>5.0</td>\n",
       "    </tr>\n",
       "    <tr>\n",
       "      <th>3</th>\n",
       "      <td>SEBLAK KERING PEDAS DAUN JERUK - 500 gram</td>\n",
       "      <td>17500</td>\n",
       "      <td>BociKakang</td>\n",
       "      <td>Jakarta Selatan</td>\n",
       "      <td>1000.0</td>\n",
       "      <td>4.6</td>\n",
       "    </tr>\n",
       "    <tr>\n",
       "      <th>4</th>\n",
       "      <td>Seblak Rafael/Seblak Coet Instan Halal</td>\n",
       "      <td>26600</td>\n",
       "      <td>Foodstocks</td>\n",
       "      <td>Jakarta Selatan</td>\n",
       "      <td>500.0</td>\n",
       "      <td>4.9</td>\n",
       "    </tr>\n",
       "  </tbody>\n",
       "</table>\n",
       "</div>"
      ],
      "text/plain": [
       "                                         Nama Produk  Harga Produk  \\\n",
       "0  Seblak Instan Ceu Nthien Khas Bandung Rasana N...         17000   \n",
       "1  KRUPUK SEBLAK RAFAEL | SEBRING | KERUPUK MAWAR...         21630   \n",
       "2            Seblak Rafael, Seblak Coet Instan Halal         25000   \n",
       "3          SEBLAK KERING PEDAS DAUN JERUK - 500 gram         17500   \n",
       "4             Seblak Rafael/Seblak Coet Instan Halal         26600   \n",
       "\n",
       "                  Nama Toko          Kota Toko  Banyaknya Terjual  Rating  \n",
       "0  Central Seblak Nusantara  Tangerang Selatan             2000.0     4.9  \n",
       "1       Toko kue Sumber Mas      Jakarta Timur               40.0     5.0  \n",
       "2         Brother Meat Shop              Depok              500.0     5.0  \n",
       "3                BociKakang    Jakarta Selatan             1000.0     4.6  \n",
       "4                Foodstocks    Jakarta Selatan              500.0     4.9  "
      ]
     },
     "execution_count": 713,
     "metadata": {},
     "output_type": "execute_result"
    }
   ],
   "source": [
    "# Hapus kata \"Terjual\" dan tanda \"+\"\n",
    "data['Banyaknya Terjual'] = data['Banyaknya Terjual'].str.replace('terjual', '').str.replace('+', '')\n",
    "\n",
    "# Ganti \"rb\" dengan \"000\" untuk mengkonversi ke ribuan\n",
    "data['Banyaknya Terjual'] = data['Banyaknya Terjual'].str.replace('rb', '000')\n",
    "\n",
    "# Ubah string menjadi tipe data numerik\n",
    "data['Banyaknya Terjual'] = pd.to_numeric(data['Banyaknya Terjual'])\n",
    "data.head()"
   ]
  },
  {
   "cell_type": "markdown",
   "metadata": {},
   "source": [
    "isi dalam tabel terjual sudah diubah tipe datanya menjadi float dan untuk kata \"rb\" sudah dikonversi ke ribuan \"000\", untuk kata terjual dan tanda\"+\" sudah terhapus Untuk melakukan perhitungan seperti rata-rata, median, atau standar deviasi, data harus berupa numerik."
   ]
  },
  {
   "cell_type": "code",
   "execution_count": 714,
   "metadata": {},
   "outputs": [
    {
     "data": {
      "text/plain": [
       "Nama Produk           object\n",
       "Harga Produk           int64\n",
       "Nama Toko             object\n",
       "Kota Toko             object\n",
       "Banyaknya Terjual    float64\n",
       "Rating               float64\n",
       "dtype: object"
      ]
     },
     "execution_count": 714,
     "metadata": {},
     "output_type": "execute_result"
    }
   ],
   "source": [
    "# cek tipe data\n",
    "data.dtypes\n"
   ]
  },
  {
   "cell_type": "markdown",
   "metadata": {},
   "source": [
    "Tipe data sudah berubah dan sesuai"
   ]
  },
  {
   "cell_type": "markdown",
   "metadata": {},
   "source": [
    "Menambahkan kolom baru untuk kolom pendapatan"
   ]
  },
  {
   "cell_type": "code",
   "execution_count": 715,
   "metadata": {},
   "outputs": [],
   "source": [
    "# menambahkan kolom pendapatan\n",
    "data[\"Pendapatan\"] = data[\"Harga Produk\"] * data[\"Banyaknya Terjual\"]\n"
   ]
  },
  {
   "cell_type": "markdown",
   "metadata": {},
   "source": [
    "membuat kolom pendapatan dengan cara kolom harga produk dikalikan dengan kolom banyaknya terjual.\n",
    "\n",
    "Dengan adanya kolom pendapatan, kita dapat langsung menghitung total pendapatan yang dihasilkan dari semua produk. agar memudahkan kita untuk menganalisis lebih lanjut."
   ]
  },
  {
   "cell_type": "code",
   "execution_count": 716,
   "metadata": {},
   "outputs": [
    {
     "data": {
      "text/html": [
       "<div>\n",
       "<style scoped>\n",
       "    .dataframe tbody tr th:only-of-type {\n",
       "        vertical-align: middle;\n",
       "    }\n",
       "\n",
       "    .dataframe tbody tr th {\n",
       "        vertical-align: top;\n",
       "    }\n",
       "\n",
       "    .dataframe thead th {\n",
       "        text-align: right;\n",
       "    }\n",
       "</style>\n",
       "<table border=\"1\" class=\"dataframe\">\n",
       "  <thead>\n",
       "    <tr style=\"text-align: right;\">\n",
       "      <th></th>\n",
       "      <th>Nama Produk</th>\n",
       "      <th>Harga Produk</th>\n",
       "      <th>Nama Toko</th>\n",
       "      <th>Kota Toko</th>\n",
       "      <th>Banyaknya Terjual</th>\n",
       "      <th>Rating</th>\n",
       "      <th>Pendapatan</th>\n",
       "    </tr>\n",
       "  </thead>\n",
       "  <tbody>\n",
       "    <tr>\n",
       "      <th>0</th>\n",
       "      <td>Seblak Instan Ceu Nthien Khas Bandung Rasana N...</td>\n",
       "      <td>17000</td>\n",
       "      <td>Central Seblak Nusantara</td>\n",
       "      <td>Tangerang Selatan</td>\n",
       "      <td>2000.0</td>\n",
       "      <td>4.9</td>\n",
       "      <td>34000000.0</td>\n",
       "    </tr>\n",
       "    <tr>\n",
       "      <th>1</th>\n",
       "      <td>KRUPUK SEBLAK RAFAEL | SEBRING | KERUPUK MAWAR...</td>\n",
       "      <td>21630</td>\n",
       "      <td>Toko kue Sumber Mas</td>\n",
       "      <td>Jakarta Timur</td>\n",
       "      <td>40.0</td>\n",
       "      <td>5.0</td>\n",
       "      <td>865200.0</td>\n",
       "    </tr>\n",
       "    <tr>\n",
       "      <th>2</th>\n",
       "      <td>Seblak Rafael, Seblak Coet Instan Halal</td>\n",
       "      <td>25000</td>\n",
       "      <td>Brother Meat Shop</td>\n",
       "      <td>Depok</td>\n",
       "      <td>500.0</td>\n",
       "      <td>5.0</td>\n",
       "      <td>12500000.0</td>\n",
       "    </tr>\n",
       "    <tr>\n",
       "      <th>3</th>\n",
       "      <td>SEBLAK KERING PEDAS DAUN JERUK - 500 gram</td>\n",
       "      <td>17500</td>\n",
       "      <td>BociKakang</td>\n",
       "      <td>Jakarta Selatan</td>\n",
       "      <td>1000.0</td>\n",
       "      <td>4.6</td>\n",
       "      <td>17500000.0</td>\n",
       "    </tr>\n",
       "    <tr>\n",
       "      <th>4</th>\n",
       "      <td>Seblak Rafael/Seblak Coet Instan Halal</td>\n",
       "      <td>26600</td>\n",
       "      <td>Foodstocks</td>\n",
       "      <td>Jakarta Selatan</td>\n",
       "      <td>500.0</td>\n",
       "      <td>4.9</td>\n",
       "      <td>13300000.0</td>\n",
       "    </tr>\n",
       "  </tbody>\n",
       "</table>\n",
       "</div>"
      ],
      "text/plain": [
       "                                         Nama Produk  Harga Produk  \\\n",
       "0  Seblak Instan Ceu Nthien Khas Bandung Rasana N...         17000   \n",
       "1  KRUPUK SEBLAK RAFAEL | SEBRING | KERUPUK MAWAR...         21630   \n",
       "2            Seblak Rafael, Seblak Coet Instan Halal         25000   \n",
       "3          SEBLAK KERING PEDAS DAUN JERUK - 500 gram         17500   \n",
       "4             Seblak Rafael/Seblak Coet Instan Halal         26600   \n",
       "\n",
       "                  Nama Toko          Kota Toko  Banyaknya Terjual  Rating  \\\n",
       "0  Central Seblak Nusantara  Tangerang Selatan             2000.0     4.9   \n",
       "1       Toko kue Sumber Mas      Jakarta Timur               40.0     5.0   \n",
       "2         Brother Meat Shop              Depok              500.0     5.0   \n",
       "3                BociKakang    Jakarta Selatan             1000.0     4.6   \n",
       "4                Foodstocks    Jakarta Selatan              500.0     4.9   \n",
       "\n",
       "   Pendapatan  \n",
       "0  34000000.0  \n",
       "1    865200.0  \n",
       "2  12500000.0  \n",
       "3  17500000.0  \n",
       "4  13300000.0  "
      ]
     },
     "execution_count": 716,
     "metadata": {},
     "output_type": "execute_result"
    }
   ],
   "source": [
    "# menampilkan data\n",
    "data.head()"
   ]
  },
  {
   "cell_type": "markdown",
   "metadata": {},
   "source": [
    "data sudah bersih setelah itu kita akan mengeskpornya kembali ke csv"
   ]
  },
  {
   "cell_type": "code",
   "execution_count": 717,
   "metadata": {},
   "outputs": [],
   "source": [
    "data.to_csv(\"data_seblak.csv\", index=False)"
   ]
  },
  {
   "cell_type": "markdown",
   "metadata": {},
   "source": [
    "# Business Understanding/Problem Statement"
   ]
  },
  {
   "cell_type": "markdown",
   "metadata": {},
   "source": [
    "## Metode SMART"
   ]
  },
  {
   "cell_type": "markdown",
   "metadata": {},
   "source": [
    "<li>Specific /Tujuan : Menentukan apakah produk seblak layak dijual melalui skema dropship di Tokopedia dengan mengukur minat dan performa penjualan produk seblak di platform tersebut.</li>\n",
    "<li>Measurable /Pengukuran : kombinasi antara web scraping, analisis statistik, potensi pendapatan, dan korelasi</li>\n",
    "<li>Achievable/Pencapaian : Pengumpulan data melalui web scraping dan analisis statistik dasar yang dapat dilakukan dengan menggunakan Python dan library terkait seperti Pandas, Scipy, dan BeautifulSoup/Scrapy.</li>\n",
    "<li>Relevant/Relevansi: Hasil analisis ini akan membantu dalam mengambil keputusan apakah seblak merupakan produk yang layak untuk dijual dengan skema dropship, sehingga memaksimalkan modal yang terbatas hanya untuk promosi.</li>\n",
    "<li>Time-bound/Batasan waktu : Analisis dilakukan berdasarkan data yang diambil dari Tokopedia dalam periode tertentu, misalnya dalam satu bulan terakhir, untuk memahami tren pasar yang sedang berlangsung.</li>\n"
   ]
  },
  {
   "cell_type": "markdown",
   "metadata": {},
   "source": [
    "## Problem Statement"
   ]
  },
  {
   "cell_type": "markdown",
   "metadata": {},
   "source": [
    "Menentukan kelayakan produk seblak untuk dijual melalui skema dropship di Tokopedia dengan mengukur minat pasar dan performa penjualan berdasarkan data terkini."
   ]
  },
  {
   "cell_type": "markdown",
   "metadata": {},
   "source": [
    "# Analysis"
   ]
  },
  {
   "cell_type": "code",
   "execution_count": 718,
   "metadata": {},
   "outputs": [
    {
     "data": {
      "text/html": [
       "<div>\n",
       "<style scoped>\n",
       "    .dataframe tbody tr th:only-of-type {\n",
       "        vertical-align: middle;\n",
       "    }\n",
       "\n",
       "    .dataframe tbody tr th {\n",
       "        vertical-align: top;\n",
       "    }\n",
       "\n",
       "    .dataframe thead th {\n",
       "        text-align: right;\n",
       "    }\n",
       "</style>\n",
       "<table border=\"1\" class=\"dataframe\">\n",
       "  <thead>\n",
       "    <tr style=\"text-align: right;\">\n",
       "      <th></th>\n",
       "      <th>Nama Produk</th>\n",
       "      <th>Harga Produk</th>\n",
       "      <th>Nama Toko</th>\n",
       "      <th>Kota Toko</th>\n",
       "      <th>Banyaknya Terjual</th>\n",
       "      <th>Rating</th>\n",
       "      <th>Pendapatan</th>\n",
       "    </tr>\n",
       "  </thead>\n",
       "  <tbody>\n",
       "    <tr>\n",
       "      <th>0</th>\n",
       "      <td>Seblak Instan Ceu Nthien Khas Bandung Rasana N...</td>\n",
       "      <td>17000</td>\n",
       "      <td>Central Seblak Nusantara</td>\n",
       "      <td>Tangerang Selatan</td>\n",
       "      <td>2000.0</td>\n",
       "      <td>4.9</td>\n",
       "      <td>34000000.0</td>\n",
       "    </tr>\n",
       "    <tr>\n",
       "      <th>1</th>\n",
       "      <td>KRUPUK SEBLAK RAFAEL | SEBRING | KERUPUK MAWAR...</td>\n",
       "      <td>21630</td>\n",
       "      <td>Toko kue Sumber Mas</td>\n",
       "      <td>Jakarta Timur</td>\n",
       "      <td>40.0</td>\n",
       "      <td>5.0</td>\n",
       "      <td>865200.0</td>\n",
       "    </tr>\n",
       "    <tr>\n",
       "      <th>2</th>\n",
       "      <td>Seblak Rafael, Seblak Coet Instan Halal</td>\n",
       "      <td>25000</td>\n",
       "      <td>Brother Meat Shop</td>\n",
       "      <td>Depok</td>\n",
       "      <td>500.0</td>\n",
       "      <td>5.0</td>\n",
       "      <td>12500000.0</td>\n",
       "    </tr>\n",
       "    <tr>\n",
       "      <th>3</th>\n",
       "      <td>SEBLAK KERING PEDAS DAUN JERUK - 500 gram</td>\n",
       "      <td>17500</td>\n",
       "      <td>BociKakang</td>\n",
       "      <td>Jakarta Selatan</td>\n",
       "      <td>1000.0</td>\n",
       "      <td>4.6</td>\n",
       "      <td>17500000.0</td>\n",
       "    </tr>\n",
       "    <tr>\n",
       "      <th>4</th>\n",
       "      <td>Seblak Rafael/Seblak Coet Instan Halal</td>\n",
       "      <td>26600</td>\n",
       "      <td>Foodstocks</td>\n",
       "      <td>Jakarta Selatan</td>\n",
       "      <td>500.0</td>\n",
       "      <td>4.9</td>\n",
       "      <td>13300000.0</td>\n",
       "    </tr>\n",
       "  </tbody>\n",
       "</table>\n",
       "</div>"
      ],
      "text/plain": [
       "                                         Nama Produk  Harga Produk  \\\n",
       "0  Seblak Instan Ceu Nthien Khas Bandung Rasana N...         17000   \n",
       "1  KRUPUK SEBLAK RAFAEL | SEBRING | KERUPUK MAWAR...         21630   \n",
       "2            Seblak Rafael, Seblak Coet Instan Halal         25000   \n",
       "3          SEBLAK KERING PEDAS DAUN JERUK - 500 gram         17500   \n",
       "4             Seblak Rafael/Seblak Coet Instan Halal         26600   \n",
       "\n",
       "                  Nama Toko          Kota Toko  Banyaknya Terjual  Rating  \\\n",
       "0  Central Seblak Nusantara  Tangerang Selatan             2000.0     4.9   \n",
       "1       Toko kue Sumber Mas      Jakarta Timur               40.0     5.0   \n",
       "2         Brother Meat Shop              Depok              500.0     5.0   \n",
       "3                BociKakang    Jakarta Selatan             1000.0     4.6   \n",
       "4                Foodstocks    Jakarta Selatan              500.0     4.9   \n",
       "\n",
       "   Pendapatan  \n",
       "0  34000000.0  \n",
       "1    865200.0  \n",
       "2  12500000.0  \n",
       "3  17500000.0  \n",
       "4  13300000.0  "
      ]
     },
     "execution_count": 718,
     "metadata": {},
     "output_type": "execute_result"
    }
   ],
   "source": [
    "# menampilkan data yang sudah dibersihkan\n",
    "data_seblak = pd.read_csv(\"data_seblak.csv\")\n",
    "data.head()"
   ]
  },
  {
   "cell_type": "markdown",
   "metadata": {},
   "source": [
    "## Hitung rata-rata, median, standar deviasi, skewness, dan kurtosis dari kolom harga, banyak produk terjual, dan rating."
   ]
  },
  {
   "cell_type": "code",
   "execution_count": 719,
   "metadata": {},
   "outputs": [
    {
     "name": "stdout",
     "output_type": "stream",
     "text": [
      "Rata-rata:\n",
      " Harga Produk         29416.125534\n",
      "Banyaknya Terjual      429.339606\n",
      "Rating                   4.871469\n",
      "dtype: float64\n"
     ]
    }
   ],
   "source": [
    "# Menghitung rata-rata\n",
    "rata_rata = data_seblak[['Harga Produk', 'Banyaknya Terjual', 'Rating']].mean()\n",
    "# Menampilkan hasilnya\n",
    "print(\"Rata-rata:\\n\", rata_rata)"
   ]
  },
  {
   "cell_type": "markdown",
   "metadata": {},
   "source": [
    "Dari data seblak yang kita miliki, kita memiliki 1170 data produk seblak\n",
    "\n",
    "Rata-Rata Harga Produk:\n",
    "\n",
    "Rata-rata harga produk seblak adalah Rp29.416. Harga ini menunjukkan bahwa produk seblak yang dijual di Tokopedia cenderung berada pada kisaran harga menengah. Ini berarti bahwa seblak yang tersedia bukanlah produk yang sangat murah, tetapi juga tidak terlalu mahal, yang mungkin menargetkan pasar menengah ke atas.\n",
    "Rata-Rata Banyaknya Produk Terjual:\n",
    "\n",
    "Rata-rata jumlah produk seblak yang terjual per penjual adalah 429 unit. Angka ini menunjukkan bahwa produk seblak memiliki permintaan yang cukup tinggi di Tokopedia. Tingkat penjualan yang signifikan ini menunjukkan bahwa banyak konsumen tertarik untuk membeli seblak, menjadikannya produk yang layak untuk dipertimbangkan sebagai pilihan bisnis.\n",
    "Rata-Rata Rating:\n",
    "\n",
    "Rata-rata rating untuk produk seblak adalah 4,87 dari 5. Ini menunjukkan bahwa konsumen umumnya sangat puas dengan produk seblak yang mereka beli di Tokopedia. Rating yang tinggi ini mencerminkan kualitas produk yang baik dan kepuasan pelanggan yang tinggi, yang merupakan indikasi positif untuk potensi penjualan di masa depan."
   ]
  },
  {
   "cell_type": "code",
   "execution_count": 720,
   "metadata": {},
   "outputs": [
    {
     "name": "stdout",
     "output_type": "stream",
     "text": [
      "\n",
      "Median:\n",
      " Harga Produk         16000.0\n",
      "Banyaknya Terjual       90.0\n",
      "Rating                   4.9\n",
      "dtype: float64\n"
     ]
    }
   ],
   "source": [
    "# Menghitung median\n",
    "median = data_seblak[['Harga Produk', 'Banyaknya Terjual', 'Rating']].median()\n",
    "print(\"\\nMedian:\\n\", median)"
   ]
  },
  {
   "cell_type": "markdown",
   "metadata": {},
   "source": [
    "Median Harga Produk: 16,000\n",
    "Median harga produk sebesar Rp16,000 menunjukkan bahwa setengah dari produk dalam dataset ini memiliki harga di bawah Rp16,000\n",
    "\n",
    "Median Banyaknya Terjual: 90\n",
    "Median banyaknya produk yang terjual adalah 90 unit, yang berarti separuh produk dalam dataset ini terjual kurang dari 90 unit\n",
    "\n",
    "Median Rating: 4.9\n",
    "Median rating sebesar 4.9 menunjukkan bahwa setengah dari produk memiliki rating 4.9 atau lebih tinggi, menunjukkan bahwa sebagian besar produk memiliki ulasan yang sangat baik dari pelanggan."
   ]
  },
  {
   "cell_type": "code",
   "execution_count": 721,
   "metadata": {},
   "outputs": [
    {
     "name": "stdout",
     "output_type": "stream",
     "text": [
      "\n",
      "Standar Deviasi:\n",
      " Harga Produk         106200.555225\n",
      "Banyaknya Terjual      1199.816435\n",
      "Rating                    0.169806\n",
      "dtype: float64\n"
     ]
    }
   ],
   "source": [
    "# Menghitung standar deviasi\n",
    "std_values = data_seblak[['Harga Produk', 'Banyaknya Terjual', 'Rating']].std()\n",
    "print(\"\\nStandar Deviasi:\\n\", std_values)"
   ]
  },
  {
   "cell_type": "markdown",
   "metadata": {},
   "source": [
    "Standar Deviasi Harga Produk: Rp106.200,55 — Menunjukkan variasi yang besar dalam harga produk seblak, dengan banyak produk yang harganya berbeda jauh dari rata-rata.\n",
    "\n",
    "Standar Deviasi Banyaknya Terjual: 1.199,82 unit — Terdapat variasi yang signifikan dalam jumlah penjualan antara produk seblak, dengan beberapa produk terjual dalam jumlah jauh lebih banyak atau sedikit dibandingkan rata-rata.\n",
    "\n",
    "Standar Deviasi Rating: 0,17 — Variasi penilaian pelanggan terhadap produk seblak sangat kecil, menunjukkan bahwa sebagian besar produk memiliki rating yang konsisten dan cenderung tinggi.\n",
    "\n",
    "Secara keseluruhan, standar deviasi memberikan informasi tentang seberapa tersebar data dari nilai rata-rata. Dalam hal ini, harga produk dan banyaknya terjual menunjukkan variasi yang besar, sedangkan rating produk menunjukkan variasi yang sangat kecil, menandakan bahwa mayoritas produk mendapatkan ulasan yang seragam dan positif."
   ]
  },
  {
   "cell_type": "code",
   "execution_count": 722,
   "metadata": {},
   "outputs": [
    {
     "name": "stdout",
     "output_type": "stream",
     "text": [
      "Skewness dari Banyaknya terjual: 5.61334979967563\n",
      "kurtosis dari Banyaknya terjual: 36.63148603833263\n"
     ]
    }
   ],
   "source": [
    "from scipy.stats import skew, kurtosis\n",
    "\n",
    "# Menghitung skewness dan kurtosis Banyaknya terjual\n",
    "print(f\"Skewness dari Banyaknya terjual: {data_seblak['Banyaknya Terjual'].skew()}\")\n",
    "print(f\"kurtosis dari Banyaknya terjual: {data_seblak['Banyaknya Terjual'].kurtosis()}\")"
   ]
  },
  {
   "cell_type": "markdown",
   "metadata": {},
   "source": [
    "nilai skewness sebesar 5.61 menunjukkan skewness yang sangat tinggi.\n",
    "Nilai kurtosis 36.63 adalah sangat tinggi.\n",
    "\n",
    "Skewness yang tinggi menunjukkan bahwa distribusi jumlah produk terjual sangat miring ke kanan, dengan beberapa produk yang terjual dalam jumlah sangat tinggi.\n",
    "Kurtosis yang tinggi menunjukkan bahwa distribusi tersebut memiliki puncak yang tajam dan ekor yang berat, dengan banyak nilai ekstrem."
   ]
  },
  {
   "cell_type": "code",
   "execution_count": 723,
   "metadata": {},
   "outputs": [
    {
     "name": "stdout",
     "output_type": "stream",
     "text": [
      "Skewness dari harga produk: 21.578956006778984\n",
      "kurtosis dari harga produk: 557.3171573942896\n"
     ]
    }
   ],
   "source": [
    "# Menghitung skewness dan kurtosis harga produk\n",
    "print(f\"Skewness dari harga produk: {data_seblak['Harga Produk'].skew()}\")\n",
    "print(f\"kurtosis dari harga produk: {data_seblak['Harga Produk'].kurtosis()}\")"
   ]
  },
  {
   "cell_type": "markdown",
   "metadata": {},
   "source": [
    "Nilai Skewness yang Sangat Tinggi (21.58)\n",
    "Nilai Kurtosis yang Sangat Tinggi (557.32)"
   ]
  },
  {
   "cell_type": "code",
   "execution_count": 724,
   "metadata": {},
   "outputs": [
    {
     "name": "stdout",
     "output_type": "stream",
     "text": [
      "Skewness dari Rating: -3.44861189160195\n",
      "kurtosis dari Rating: 19.49053495019578\n"
     ]
    }
   ],
   "source": [
    "# Menghitung skewness dan kurtosis rating\n",
    "print(f\"Skewness dari Rating: {data_seblak['Rating'].skew()}\")\n",
    "print(f\"kurtosis dari Rating: {data_seblak['Rating'].kurtosis()}\")"
   ]
  },
  {
   "cell_type": "markdown",
   "metadata": {},
   "source": [
    "Nilai Skewness Negatif (-3.45): Ini menunjukkan bahwa distribusi rating miring ke kiri.\n",
    "Nilai Kurtosis Tinggi (19.49)\n",
    "menunjukkan bahwa mayoritas produk mendapatkan rating yang tinggi, tetapi ada beberapa produk dengan rating yang sangat rendah yang mempengaruhi distribusi."
   ]
  },
  {
   "cell_type": "markdown",
   "metadata": {},
   "source": [
    "Potensi minimum dan maksimum pendapatan"
   ]
  },
  {
   "cell_type": "code",
   "execution_count": 725,
   "metadata": {},
   "outputs": [
    {
     "name": "stdout",
     "output_type": "stream",
     "text": [
      "Potensi Minimum Pendapatan menjual seblak: Rp 6243117.59\n",
      "Potensi Maksimum Pendapatan menjual seblak: Rp9251056.36\n"
     ]
    }
   ],
   "source": [
    "std = data_seblak['Pendapatan'].std()     # Standard deviation of quantity\n",
    "N = len(data_seblak)                    # Length of the data\n",
    "low, up = stats.norm.interval(    # Will have lower & upper limit\n",
    "    0.95,                         # Confidence level in 95%\n",
    "    loc=data_seblak['Pendapatan'].mean(), # Average of quantity that store in warehouse\n",
    "    scale=std/np.sqrt(N)          # The width of dist. from average\n",
    "    )         \n",
    "print(f'Potensi Minimum Pendapatan menjual seblak: Rp {low:.2f}')   # Lower limit\n",
    "print(f'Potensi Maksimum Pendapatan menjual seblak: Rp{ up:.2f}')    # Upper limit"
   ]
  },
  {
   "cell_type": "markdown",
   "metadata": {},
   "source": [
    "Berdasarkan analisis dengan menggunakan interval confidence level 95%, didapatkan estimasi pendapatan dari penjualan produk seblak sebagai berikut:\n",
    "\n",
    "Potensi Minimum Pendapatan: Rp6.243.117,59\n",
    "Potensi Maksimum Pendapatan: Rp9.251.056,36\n",
    "Ini berarti, dengan tingkat keyakinan 95%, pendapatan bulanan dari penjualan produk seblak diperkirakan akan berada di antara Rp6.243.117,59 dan Rp9.251.056,36."
   ]
  },
  {
   "cell_type": "markdown",
   "metadata": {},
   "source": [
    "Uji Hipotesis"
   ]
  },
  {
   "cell_type": "markdown",
   "metadata": {},
   "source": [
    "Menuliskan Hipotesis\n",
    "Hipotesis Null (H0): Tidak ada perbedaan harga barang antara Jabodetabek dan luar Jabodetabek.\n",
    "\n",
    "                    harga jabodetabek  == harga luar jabodetabek\n",
    "\n",
    "Hipotesis Alternatif (H1): Ada perbedaan harga barang antara Jabodetabek dan luar Jabodetabek.\n",
    "\n",
    "                    harga jabodetabek != harga luar jabodetabek\n",
    "                    \n",
    "Jenis Hipotesis: singel sample two sided  karena kita hanya ingin mengetahui apakah ada perbedaan, tanpa memprediksi arah perbedaan tersebut."
   ]
  },
  {
   "cell_type": "code",
   "execution_count": 730,
   "metadata": {},
   "outputs": [],
   "source": [
    "# memisahkan data berdasarkan lokasi\n",
    "jabodetabek = data_seblak[data_seblak['Kota Toko'].isin(['Jakarta', 'Bogor', 'Depok', 'Tangerang', 'Bekasi'])]['Harga Produk']\n",
    "luar_jabodetabek = data_seblak[~data_seblak['Kota Toko'].isin(['Jakarta', 'Bogor', 'Depok', 'Tangerang', 'Bekasi'])]['Harga Produk']"
   ]
  },
  {
   "cell_type": "code",
   "execution_count": 739,
   "metadata": {},
   "outputs": [
    {
     "name": "stdout",
     "output_type": "stream",
     "text": [
      "Rata rata harga produk di jabodetabek \t\t= 120519.73134328358\n",
      "Rata rata harga produk di luar jabodetabek \t= 23887.192934782608\n"
     ]
    }
   ],
   "source": [
    "print('Rata rata harga produk di jabodetabek \\t\\t=', jabodetabek.mean())\n",
    "print('Rata rata harga produk di luar jabodetabek \\t=' ,luar_jabodetabek.mean())"
   ]
  },
  {
   "cell_type": "markdown",
   "metadata": {},
   "source": [
    "Harga rata rata seblak di jabodetabek lebih besar dibandingkan dengan harga seblak di luar jabodetabek\n",
    "\n",
    "**H0**: Rata-rata harga produk di jabodetabek == di luar jabodetabek\n",
    "\n",
    "**H1**: Rata-rata harga produk di jabodetabek != di luar jabodetabek\n",
    "\n",
    "Hasil analisis mendukung H1, yang menunjukkan bahwa rata-rata harga seblak di Jabodetabek berbeda secara signifikan dibandingkan dengan luar Jabodetabek."
   ]
  },
  {
   "cell_type": "code",
   "execution_count": 740,
   "metadata": {},
   "outputs": [
    {
     "name": "stdout",
     "output_type": "stream",
     "text": [
      "t-statistic: 1.8837047954552828\n",
      "p-value: 0.06400870486752851\n"
     ]
    }
   ],
   "source": [
    "# Melakukan uji t dua sampel\n",
    "\n",
    "t_stat, p_value = stats.ttest_ind(jabodetabek, luar_jabodetabek, equal_var=False) # Mengasumsikan varians tidak sama\n",
    "\n",
    "print(\"t-statistic:\", t_stat)\n",
    "print(\"p-value:\", p_value)"
   ]
  },
  {
   "cell_type": "markdown",
   "metadata": {},
   "source": [
    "Kesimpulan:\n",
    "\n",
    "Karena p-value (0.064) lebih besar dari 0.05, gagal menolak hipotesis null.\n",
    "Tidak ada bukti yang cukup untuk menyatakan bahwa ada perbedaan signifikan dalam harga produk antara Jabodetabek dan luar Jabodetabek.\n",
    "\n",
    "Interpretasi:\n",
    "\n",
    "Berdasarkan hasil uji t, tidak ditemukan bukti statistik yang kuat untuk mendukung adanya perbedaan signifikan dalam harga produk antara Jabodetabek dan luar Jabodetabek. Hal ini berarti, berdasarkan data yang dianalisis, tidak ada perbedaan yang berarti dalam harga produk antara kedua wilayah tersebut."
   ]
  },
  {
   "cell_type": "code",
   "execution_count": 745,
   "metadata": {},
   "outputs": [
    {
     "data": {
      "text/plain": [
       "<seaborn.axisgrid.FacetGrid at 0x268d6151c10>"
      ]
     },
     "execution_count": 745,
     "metadata": {},
     "output_type": "execute_result"
    },
    {
     "data": {
      "image/png": "[encoded data removed]",
      "text/plain": [
       "<Figure size 500x500 with 1 Axes>"
      ]
     },
     "metadata": {},
     "output_type": "display_data"
    }
   ],
   "source": [
    "import scipy\n",
    "sns.lmplot(data=data_seblak, x='Harga Produk', y='Banyaknya Terjual')"
   ]
  },
  {
   "cell_type": "markdown",
   "metadata": {},
   "source": [
    "terlihat banyaknya terjual produk seblak dengan harga yang murah"
   ]
  },
  {
   "cell_type": "code",
   "execution_count": 759,
   "metadata": {},
   "outputs": [],
   "source": [
    "# Mengganti nilai inf dengan NaN\n",
    "data_seblak.replace([np.inf, -np.inf], np.nan, inplace=True)\n",
    "\n",
    "# Menghapus baris yang mengandung NaN\n",
    "data_seblak.dropna(subset=['Harga Produk', 'Banyaknya Terjual'], inplace=True)"
   ]
  },
  {
   "cell_type": "code",
   "execution_count": 760,
   "metadata": {},
   "outputs": [
    {
     "name": "stdout",
     "output_type": "stream",
     "text": [
      "r-correlation  : -0.06, p-value: 0.0416090283115543\n",
      "rho-correlation: -0.08, p-value: 0.009110537598767782\n",
      "tau-correlation: -0.05, p-value: 0.008890134309072418\n"
     ]
    }
   ],
   "source": [
    "corr_r, pval_p = stats.pearsonr(data_seblak['Harga Produk'], data_seblak['Banyaknya Terjual'])       # Pearson (r)\n",
    "corr_rho, pval_s = stats.spearmanr(data_seblak['Harga Produk'], data_seblak['Banyaknya Terjual'])    # Spearman (rho)\n",
    "corr_tau, pval_k = stats.kendalltau(data_seblak['Harga Produk'], data_seblak['Banyaknya Terjual'])   # Kendall (tau)\n",
    "\n",
    "print(f\"r-correlation  : {corr_r:.2f}, p-value: {pval_p}\")      # Pearson (r)\n",
    "print(f\"rho-correlation: {corr_rho:.2f}, p-value: {pval_s}\")    # Spearman (rho)\n",
    "print(f\"tau-correlation: {corr_tau:.2f}, p-value: {pval_k}\")    # Kendall (tau)"
   ]
  },
  {
   "cell_type": "markdown",
   "metadata": {},
   "source": [
    "Korelasi Negatif: Nilai koefisien korelasi untuk ketiga metode menunjukkan nilai negatif (sekitar -0.08). Ini berarti ada kecenderungan bahwa semakin tinggi harga produk, semakin sedikit jumlah yang terjual. Namun, korelasi ini tergolong lemah."
   ]
  },
  {
   "cell_type": "markdown",
   "metadata": {},
   "source": [
    "# Conclusion"
   ]
  },
  {
   "cell_type": "markdown",
   "metadata": {},
   "source": [
    "1. Analisis Distribusi Harga, Banyaknya Produk Terjual, dan Rating:\n",
    "\n",
    "Kesimpulan: Harga Menengah: Produk seblak memiliki harga yang wajar dan menargetkan pasar menengah ke atas, yang dapat membantu menarik segmen konsumen yang lebih luas.\n",
    "Permintaan Tinggi: Dengan jumlah produk terjual yang tinggi, produk seblak menunjukkan minat pasar yang kuat, menjadikannya kandidat yang potensial untuk dipertimbangkan dalam model bisnis dropship.\n",
    "Kepuasan Pelanggan: Rating yang sangat tinggi menunjukkan bahwa produk seblak diterima dengan baik oleh pelanggan, yang mendukung keputusan untuk menjual produk ini dengan kepercayaan bahwa kualitasnya akan menarik pembeli.\n",
    "\n",
    "2. Potensi Pendapatan:\n",
    "\n",
    "Kesimpulan: Berdasarkan analisis dengan interval confidence level 95%, estimasi pendapatan bulanan dari penjualan produk seblak diperkirakan berada di antara Rp6.243.117,59 dan Rp9.251.056,36. Dengan tingkat keyakinan 95%, pendapatan dari penjualan produk seblak kemungkinan besar akan berada dalam rentang tersebut.\n",
    "\n",
    "3. Perbedaan Harga di Jabodetabek dan Luar Jabodetabek:\n",
    "Kesimpulan: Berdasarkan analisis, harga rata-rata seblak di Jabodetabek lebih tinggi dibandingkan dengan harga seblak di luar Jabodetabek.\n",
    "\n",
    "Hipotesis Nol (H0): Tidak ada perbedaan signifikan dalam rata-rata harga produk antara Jabodetabek dan luar Jabodetabek.\n",
    "Hipotesis Alternatif (H1): Ada perbedaan signifikan dalam rata-rata harga produk antara Jabodetabek dan luar Jabodetabek.\n",
    "Hasil analisis mendukung H1, yang menunjukkan bahwa rata-rata harga seblak di Jabodetabek berbeda secara signifikan dibandingkan dengan luar Jabodetabek.\n",
    "\n",
    "4. Preferensi Pelanggan terhadap Harga Produk:\n",
    "\n",
    "Kesimpulan: Meskipun korelasi antara harga dan jumlah terjual lemah, semua uji menunjukkan hubungan yang signifikan secara statistik. Ini berarti bahwa ada kecenderungan nyata, meskipun kecil, di mana produk dengan harga lebih tinggi cenderung terjual dalam jumlah yang lebih sedikit.\n",
    "\n",
    "Kesimpulan Umum:\n",
    "\n",
    "Dari hasil analisis ini, dapat disimpulkan bahwa produk seblak memiliki potensi yang baik untuk dijual melalui skema dropship di Tokopedia. Seblak dengan harga sekitar Rp29.416 cenderung disukai oleh konsumen, baik dari segi jumlah penjualan maupun rating. Namun, perhatian khusus harus diberikan pada strategi penetapan harga, terutama di wilayah Jabodetabek yang menunjukkan harga lebih tinggi. Selain itu, strategi promosi yang berfokus pada harga kompetitif bisa menjadi kunci untuk meningkatkan penjualan, mengingat kecenderungan konsumen yang lebih memilih produk dengan harga lebih rendah. Dengan demikian, bisnis dropship seblak dapat menjadi usaha yang menguntungkan jika dikelola dengan baik."
   ]
  }
 ],
 "metadata": {
  "kernelspec": {
   "display_name": "base",
   "language": "python",
   "name": "python3"
  },
  "language_info": {
   "codemirror_mode": {
    "name": "ipython",
    "version": 3
   },
   "file_extension": ".py",
   "mimetype": "text/x-python",
   "name": "python",
   "nbconvert_exporter": "python",
   "pygments_lexer": "ipython3",
   "version": "3.12.4"
  }
 },
 "nbformat": 4,
 "nbformat_minor": 2
}
